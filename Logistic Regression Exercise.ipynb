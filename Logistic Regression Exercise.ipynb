{
 "cells": [
  {
   "cell_type": "markdown",
   "id": "99f493c4",
   "metadata": {},
   "source": [
    "# Logistic Regression Exercise"
   ]
  },
  {
   "cell_type": "markdown",
   "id": "11f5559e",
   "metadata": {},
   "source": [
    "## Aufgabe: \n",
    "You are walking in the forest and see an iris and measure:\n",
    "\n",
    "4.8,2.5,5.3,2.4\n",
    "Is this an Iris Virginica or not?"
   ]
  },
  {
   "cell_type": "code",
   "execution_count": 1,
   "id": "b6361a55",
   "metadata": {},
   "outputs": [],
   "source": [
    "import pandas as pd \n",
    "import numpy as np \n",
    "\n",
    "from sklearn import datasets\n",
    "from sklearn.linear_model import LogisticRegression\n",
    "\n",
    "from sklearn.model_selection import train_test_split\n",
    "from sklearn.metrics import classification_report\n",
    "from sklearn.metrics import accuracy_score"
   ]
  },
  {
   "cell_type": "code",
   "execution_count": 2,
   "id": "e2bb868d",
   "metadata": {},
   "outputs": [
    {
     "name": "stdout",
     "output_type": "stream",
     "text": [
      "Target names:\n",
      " ['setosa' 'versicolor' 'virginica']\n",
      "\n",
      "\n",
      "Feature names:\n",
      " ['sepal length (cm)', 'sepal width (cm)', 'petal length (cm)', 'petal width (cm)']\n",
      "\n",
      "\n",
      "Description:\n",
      " .. _iris_dataset:\n",
      "\n",
      "Iris plants dataset\n",
      "--------------------\n",
      "\n",
      "**Data Set Characteristics:**\n",
      "\n",
      "    :Number of Instances: 150 (50 in each of three classes)\n",
      "    :Number of Attributes: 4 numeric, predictive attributes and the class\n",
      "    :Attribute Information:\n",
      "        - sepal length in cm\n",
      "        - sepal width in cm\n",
      "        - petal length in cm\n",
      "        - petal width in cm\n",
      "        - class:\n",
      "                - Iris-Setosa\n",
      "                - Iris-Versicolour\n",
      "                - Iris-Virginica\n",
      "                \n",
      "    :Summary Statistics:\n",
      "\n",
      "    ============== ==== ==== ======= ===== ====================\n",
      "                    Min  Max   Mean    SD   Class Correlation\n",
      "    ============== ==== ==== ======= ===== ====================\n",
      "    sepal length:   4.3  7.9   5.84   0.83    0.7826\n",
      "    sepal width:    2.0  4.4   3.05   0.43   -0.4194\n",
      "    petal length:   1.0  6.9   3.76   1.76    0.9490  (high!)\n",
      "    petal width:    0.1  2.5   1.20   0.76    0.9565  (high!)\n",
      "    ============== ==== ==== ======= ===== ====================\n",
      "\n",
      "    :Missing Attribute Values: None\n",
      "    :Class Distribution: 33.3% for each of 3 classes.\n",
      "    :Creator: R.A. Fisher\n",
      "    :Donor: Michael Marshall (MARSHALL%PLU@io.arc.nasa.gov)\n",
      "    :Date: July, 1988\n",
      "\n",
      "The famous Iris database, first used by Sir R.A. Fisher. The dataset is taken\n",
      "from Fisher's paper. Note that it's the same as in R, but not as in the UCI\n",
      "Machine Learning Repository, which has two wrong data points.\n",
      "\n",
      "This is perhaps the best known database to be found in the\n",
      "pattern recognition literature.  Fisher's paper is a classic in the field and\n",
      "is referenced frequently to this day.  (See Duda & Hart, for example.)  The\n",
      "data set contains 3 classes of 50 instances each, where each class refers to a\n",
      "type of iris plant.  One class is linearly separable from the other 2; the\n",
      "latter are NOT linearly separable from each other.\n",
      "\n",
      ".. topic:: References\n",
      "\n",
      "   - Fisher, R.A. \"The use of multiple measurements in taxonomic problems\"\n",
      "     Annual Eugenics, 7, Part II, 179-188 (1936); also in \"Contributions to\n",
      "     Mathematical Statistics\" (John Wiley, NY, 1950).\n",
      "   - Duda, R.O., & Hart, P.E. (1973) Pattern Classification and Scene Analysis.\n",
      "     (Q327.D83) John Wiley & Sons.  ISBN 0-471-22361-1.  See page 218.\n",
      "   - Dasarathy, B.V. (1980) \"Nosing Around the Neighborhood: A New System\n",
      "     Structure and Classification Rule for Recognition in Partially Exposed\n",
      "     Environments\".  IEEE Transactions on Pattern Analysis and Machine\n",
      "     Intelligence, Vol. PAMI-2, No. 1, 67-71.\n",
      "   - Gates, G.W. (1972) \"The Reduced Nearest Neighbor Rule\".  IEEE Transactions\n",
      "     on Information Theory, May 1972, 431-433.\n",
      "   - See also: 1988 MLC Proceedings, 54-64.  Cheeseman et al\"s AUTOCLASS II\n",
      "     conceptual clustering system finds 3 classes in the data.\n",
      "   - Many, many more ...\n"
     ]
    }
   ],
   "source": [
    "# Hier werden die iris-Daten geladen\n",
    "\n",
    "iris = datasets.load_iris()\n",
    "\n",
    "# Hier werden ein paar Informationen angezeigt, um die Struktur der Daten besser zu verstehen.\n",
    "\n",
    "print(\"Target names:\\n\", iris.target_names)\n",
    "\n",
    "print(\"\\n\\nFeature names:\\n\", iris.feature_names)\n",
    "\n",
    "print(\"\\n\\nDescription:\\n\", iris.DESCR)\n"
   ]
  },
  {
   "cell_type": "markdown",
   "id": "bc074d1a",
   "metadata": {},
   "source": [
    "### Modell erzeugen, trainieren und anwenden"
   ]
  },
  {
   "cell_type": "markdown",
   "id": "4e1fc680",
   "metadata": {},
   "source": [
    "Modell erzeugen"
   ]
  },
  {
   "cell_type": "code",
   "execution_count": 3,
   "id": "d2a71fc8",
   "metadata": {},
   "outputs": [],
   "source": [
    "# Modell erzeugen\n",
    "model = LogisticRegression(max_iter=10000)"
   ]
  },
  {
   "cell_type": "markdown",
   "id": "672e5240",
   "metadata": {},
   "source": [
    "Modell trainieren"
   ]
  },
  {
   "cell_type": "code",
   "execution_count": 4,
   "id": "1fbb74eb",
   "metadata": {},
   "outputs": [
    {
     "data": {
      "text/plain": [
       "LogisticRegression(max_iter=10000)"
      ]
     },
     "execution_count": 4,
     "metadata": {},
     "output_type": "execute_result"
    }
   ],
   "source": [
    "# Modell trainieren\n",
    "model.fit(iris.data, iris.target_names[iris.target])"
   ]
  },
  {
   "cell_type": "markdown",
   "id": "a5a6cf1c",
   "metadata": {},
   "source": [
    "Modell anwenden"
   ]
  },
  {
   "cell_type": "code",
   "execution_count": 5,
   "id": "58f29a48",
   "metadata": {},
   "outputs": [
    {
     "data": {
      "text/plain": [
       "array(['virginica'], dtype='<U10')"
      ]
     },
     "execution_count": 5,
     "metadata": {},
     "output_type": "execute_result"
    }
   ],
   "source": [
    "# Modell anwenden\n",
    "model.predict([[4.8,2.5,5.3,2.4]])"
   ]
  },
  {
   "cell_type": "markdown",
   "id": "363c9b89",
   "metadata": {},
   "source": [
    "### Ergebnis: => Wir haben eine Iris Virginica"
   ]
  },
  {
   "cell_type": "markdown",
   "id": "3feab8b4",
   "metadata": {},
   "source": [
    "Wenn man sich die Wahrscheinlichkeiten anguckt, sieht man, dass dieses Ergebnis mit einer  Wahrscheinlichkeit von 99% richtig ist."
   ]
  },
  {
   "cell_type": "code",
   "execution_count": 6,
   "id": "6a3b6081",
   "metadata": {
    "scrolled": true
   },
   "outputs": [
    {
     "name": "stdout",
     "output_type": "stream",
     "text": [
      "Target names:  ['setosa' 'versicolor' 'virginica']\n",
      "Wahrscheinlichkeiten [0.   0.01 0.99]\n",
      "\n",
      "\n",
      "\n",
      "setosa => 0.0\n",
      "versicolor => 0.01\n",
      "virginica => 0.99\n"
     ]
    }
   ],
   "source": [
    "prob = model.predict_proba([[4.8,2.5,5.3,2.4]])\n",
    "# Hier wird die Reihenfolde der Namen angezeigt. Diese Reihenfolge ist auch die Reihenfolge der Ergebnisse\n",
    "print(\"Target names: \", iris.target_names)\n",
    "proba = np.round(prob, 2)[0]\n",
    "print(\"Wahrscheinlichkeiten\", proba )\n",
    "\n",
    "print(\"\\n\\n\")\n",
    "print(iris.target_names[0],\"=>\" , proba[0])\n",
    "print(iris.target_names[1],\"=>\" , proba[1])\n",
    "print(iris.target_names[2],\"=>\" , proba[2])"
   ]
  },
  {
   "cell_type": "markdown",
   "id": "99adbf2b",
   "metadata": {},
   "source": [
    "### Ergebnis validieren\n",
    "\n",
    "Trainings- und Testdaten werden getrennt"
   ]
  },
  {
   "cell_type": "code",
   "execution_count": 7,
   "id": "40c69675",
   "metadata": {},
   "outputs": [],
   "source": [
    "x= iris.data\n",
    "y = iris.target_names[iris.target]\n",
    "\n",
    "x_train, x_test, y_train, y_test = train_test_split(x, y, test_size=0.2, random_state=0)"
   ]
  },
  {
   "cell_type": "markdown",
   "id": "40c18adf",
   "metadata": {},
   "source": [
    "Das Modell wird erzeugt und mit Trainingsdaten trainiert."
   ]
  },
  {
   "cell_type": "code",
   "execution_count": 8,
   "id": "75370feb",
   "metadata": {},
   "outputs": [
    {
     "data": {
      "text/plain": [
       "LogisticRegression(max_iter=10000)"
      ]
     },
     "execution_count": 8,
     "metadata": {},
     "output_type": "execute_result"
    }
   ],
   "source": [
    "model_val = LogisticRegression(max_iter=10000)\n",
    "model_val.fit(x_train, y_train)"
   ]
  },
  {
   "cell_type": "code",
   "execution_count": 9,
   "id": "024489e6",
   "metadata": {},
   "outputs": [
    {
     "name": "stdout",
     "output_type": "stream",
     "text": [
      "              precision    recall  f1-score   support\n",
      "\n",
      "      setosa       1.00      1.00      1.00        11\n",
      "  versicolor       1.00      1.00      1.00        13\n",
      "   virginica       1.00      1.00      1.00         6\n",
      "\n",
      "    accuracy                           1.00        30\n",
      "   macro avg       1.00      1.00      1.00        30\n",
      "weighted avg       1.00      1.00      1.00        30\n",
      "\n",
      "1.0\n"
     ]
    }
   ],
   "source": [
    "#Evaluate  the model\n",
    "predictions = model_val.predict(x_test)\n",
    "print( classification_report(y_test, predictions) )\n",
    "print( accuracy_score(y_test, predictions))"
   ]
  },
  {
   "cell_type": "markdown",
   "id": "9e6771f3",
   "metadata": {},
   "source": [
    "### Neues Modell anwenden"
   ]
  },
  {
   "cell_type": "code",
   "execution_count": 10,
   "id": "dae0e099",
   "metadata": {},
   "outputs": [
    {
     "name": "stdout",
     "output_type": "stream",
     "text": [
      "['virginica']\n"
     ]
    }
   ],
   "source": [
    "typePredict = model_val.predict([[4.8,2.5,5.3,2.4]])\n",
    "print(typePredict)\n",
    "\n",
    "prob_val = model_val.predict_proba([[4.8,2.5,5.3,2.4]])"
   ]
  },
  {
   "cell_type": "markdown",
   "id": "d28f4f82",
   "metadata": {},
   "source": [
    "Das Ergebnis ist immer noch \"Iris Virginica\"."
   ]
  },
  {
   "cell_type": "code",
   "execution_count": 11,
   "id": "8930a3fa",
   "metadata": {},
   "outputs": [
    {
     "name": "stdout",
     "output_type": "stream",
     "text": [
      "[0.   0.02 0.98]\n",
      "\n",
      "\n",
      "\n",
      "setosa => 0.0\n",
      "versicolor => 0.02\n",
      "virginica => 0.98\n"
     ]
    }
   ],
   "source": [
    "proba_val = np.round(prob_val, 2)[0]\n",
    "print(proba_val)\n",
    "print(\"\\n\\n\")\n",
    "print(iris.target_names[0],\"=>\" , proba_val[0])\n",
    "print(iris.target_names[1],\"=>\" , proba_val[1])\n",
    "print(iris.target_names[2],\"=>\" , proba_val[2])"
   ]
  },
  {
   "cell_type": "markdown",
   "id": "855c2211",
   "metadata": {},
   "source": [
    "Die Wahrscheinlichkeit ist ist 98% statt 99% aber sie ist immer noch sehr hoch. Es kann daran liegen, dass man bei der Validierung weniger Daten hatte."
   ]
  }
 ],
 "metadata": {
  "kernelspec": {
   "display_name": "Python 3 (ipykernel)",
   "language": "python",
   "name": "python3"
  },
  "language_info": {
   "codemirror_mode": {
    "name": "ipython",
    "version": 3
   },
   "file_extension": ".py",
   "mimetype": "text/x-python",
   "name": "python",
   "nbconvert_exporter": "python",
   "pygments_lexer": "ipython3",
   "version": "3.9.7"
  }
 },
 "nbformat": 4,
 "nbformat_minor": 5
}
